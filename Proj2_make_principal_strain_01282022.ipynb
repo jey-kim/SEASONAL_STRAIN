{
 "cells": [
  {
   "cell_type": "code",
   "execution_count": 1,
   "metadata": {},
   "outputs": [],
   "source": [
    "#<img src=\"Figs/GEOS_Logo.pdf\" width=\"500\" />"
   ]
  },
  {
   "cell_type": "markdown",
   "metadata": {},
   "source": [
    "# `Project 2`**: <font color=blue>\"make_principal_strain.ipynb\"</font>\n",
    "#### Jan 28, 2022  <font color=red>(v. working)</font>\n",
    "##### Jeonghyeop Kim (jeonghyeop.kim@gmail.com)\n",
    "\n",
    "> input files: **`average_strain_RECTANGULAR.out`** \\\n",
    "> output files: **`principal_ext.out`** & **`principal_con.out`** & **`dilatation.out`** & **`second_inv.out`** & **`pure_shear.out`**\n"
   ]
  },
  {
   "cell_type": "code",
   "execution_count": 2,
   "metadata": {},
   "outputs": [],
   "source": [
    "import numpy as np\n",
    "#import pandas as pd"
   ]
  },
  {
   "cell_type": "code",
   "execution_count": 3,
   "metadata": {},
   "outputs": [],
   "source": [
    "input_file=\"average_strain_RECTANGULAR.out\"\n",
    "output_file1=\"principal_ext.out\"\n",
    "output_file2=\"principal_con.out\"\n",
    "output_file3=\"dilatation.out\"\n",
    "output_file4=\"second_inv.out\"\n",
    "output_file5=\"pure_shear.out\"\n",
    "\n",
    "data=np.loadtxt(input_file)\n",
    "lat = data[:,1]\n",
    "lon = data[:,2]\n",
    "exx = data[:,3]\n",
    "eyy = data[:,4]\n",
    "exy = data[:,5]\n",
    "\n",
    "num_strain = len(exx)"
   ]
  },
  {
   "cell_type": "markdown",
   "metadata": {},
   "source": [
    "### STEP1.  Calculate Principal strains and save in a GMT format\n",
    "> The GMT module **psvelo** with -Sx flag requires a input file with a format of  \\\n",
    "> **`lon`, `lat`, `ext`, `contr`, `angle(e22,north)`** "
   ]
  },
  {
   "cell_type": "code",
   "execution_count": 4,
   "metadata": {},
   "outputs": [],
   "source": [
    "BASIS_for_extensional = np.zeros((num_strain,5))\n",
    "BASIS_for_contractional = np.zeros((num_strain,5))\n",
    "\n",
    "for i in range(num_strain):\n",
    "    tau = np.array([[exx[i],exy[i]],[exy[i],eyy[i]]])\n",
    "    Lam, N = np.linalg.eig(tau) #Lam = eigenvalues; N = eigenvectors (columns)\n",
    "    taur = N.transpose() @ tau @ N  #Principal axes    \n",
    "    \n",
    "    # Set the larger principal axis is e11\n",
    "    t1=taur[0,0]\n",
    "    t2=taur[1,1]\n",
    "    N1=N[:,0]\n",
    "    N2=N[:,1]\n",
    "    if t2 > t1:\n",
    "        taur[0,0] = t2\n",
    "        taur[1,1] = t1\n",
    "        N = np.array([N2,N1])\n",
    "        \n",
    "    # Take the two components of the contractional eigenvector\n",
    "    x = N[0,1]  \n",
    "    y = N[1,1]\n",
    "    \n",
    "    # Angle from the north\n",
    "    if x > 0 and y > 0:\n",
    "        angle = np.arcsin(x)*180/np.pi\n",
    "    elif x > 0 and y < 0:\n",
    "        angle = 180 - np.arcsin(x)*180/np.pi\n",
    "    elif x == 0 and y > 0:\n",
    "        angle = 0\n",
    "    elif x == 0 and y < 0:\n",
    "        angle = 180\n",
    "    elif x < 0 and y < 0:\n",
    "        angle = 180 + np.arcsin(np.abs(x))*180/np.pi\n",
    "    elif x < 0 and y > 0:\n",
    "        angle = 360 - np.arcsin(np.abs(x))*180/np.pi\n",
    "    elif x > 0 and y == 0:\n",
    "        angle = 90\n",
    "    elif x < 0 and y == 0:\n",
    "        angle = 270\n",
    "    else:\n",
    "        print(\"ERROR! Stop this algorithm.\")\n",
    "        break\n",
    "        \n",
    "        \n",
    "    BASIS_for_extensional[i,0] = lon[i]\n",
    "    BASIS_for_extensional[i,1] = lat[i]\n",
    "    BASIS_for_extensional[i,4] = angle\n",
    "    \n",
    "    \n",
    "    BASIS_for_contractional[i,0] = lon[i]\n",
    "    BASIS_for_contractional[i,1] = lat[i]\n",
    "    BASIS_for_contractional[i,4] = angle\n",
    "    \n",
    "    \n",
    "    if taur[0,0] >= 0 and taur[1,1] >= 0: #e11 and e22 are both extentional (+ve)\n",
    "        BASIS_for_extensional[i,2] = taur[0,0]\n",
    "        BASIS_for_extensional[i,3] = taur[1,1]\n",
    "        \n",
    "    elif taur[0,0] >= 0 and taur[1,1] < 0: #e11 +ve ; e22 -ve\n",
    "        BASIS_for_extensional[i,2] = taur[0,0]\n",
    "        BASIS_for_contractional[i,3] = taur[1,1]\n",
    "    \n",
    "    elif taur[0,0] < 0 and taur[1,1] < 0: #e11 and e22 are both contractional (-ve)\n",
    "        BASIS_for_contractional[i,2] = taur[0,0]\n",
    "        BASIS_for_contractional[i,3] = taur[1,1]\n",
    "    else:\n",
    "        print(\"ERROR! Stop this algorithm.\")\n",
    "        break\n",
    "        \n"
   ]
  },
  {
   "cell_type": "markdown",
   "metadata": {},
   "source": [
    "### STEP2. Calculate dilatational strains and save in a xyz format\n",
    "> **dilatation is invariant** : exx+eyy = e11+e22"
   ]
  },
  {
   "cell_type": "code",
   "execution_count": 5,
   "metadata": {},
   "outputs": [],
   "source": [
    "dil = exx + eyy\n",
    "BASIS_for_dil=np.column_stack((lon,lat,dil))"
   ]
  },
  {
   "cell_type": "markdown",
   "metadata": {},
   "source": [
    "### STEP3. Calculate the second invariant of strains and save in a xyz format\n",
    "eij*eij = 2*exx*exx + 2*eyy*eyy + 2*exy*exy +2*exx*eyy"
   ]
  },
  {
   "cell_type": "code",
   "execution_count": 6,
   "metadata": {},
   "outputs": [],
   "source": [
    "second_inv = 2*exx**2 + 2*eyy**2 + 2*exy**2 + 2*exx*eyy\n",
    "second_inv = np.sqrt(second_inv)\n",
    "BASIS_for_second_inv=np.column_stack((lon,lat,second_inv))"
   ]
  },
  {
   "cell_type": "markdown",
   "metadata": {},
   "source": [
    "### STEP4. Calculate the pure shear of strains and save in a xyz format\n",
    "SS Shear magnitude \n",
    "= Shear-strain-rate magnitude\n",
    "= Pure strike-slip style \n",
    "\n",
    "> see strain_cont_asia*"
   ]
  },
  {
   "cell_type": "code",
   "execution_count": 7,
   "metadata": {},
   "outputs": [],
   "source": [
    "y2s=1.0\n",
    "sigma = 0.5*(exx+eyy)/y2s\n",
    "gama1 = 0.5*(exx-eyy)/y2s\n",
    "exy1 = exy/y2s\n",
    "\n",
    "gama = np.sqrt(gama1**2+exy1**2)\n",
    "gama_tmp = sigma**2 - gama**2\n",
    "\n",
    "gama_ss = np.zeros(len(gama_tmp))\n",
    "\n",
    "# logic 1\n",
    "#if gama_tmp > 0, then gama_ss = 0\n",
    "\n",
    "# logic not 1 & logic 2\n",
    "#if gama_tmp <=0 & np.abs(sigma+gama) > np.abs(sigma-gama), \n",
    "# then gama_ss = sigma-gama\n",
    "\n",
    "# logic not 1 & logic 3\n",
    "#if gama_tmp <=0 & np.abs(sigma+gama) <= np.abs(sigma-gama), \n",
    "# then gama_ss = sigma+gama\n",
    "\n",
    "idx1=(gama_tmp<=0)  # logic not 1\n",
    "idx2=(np.abs(sigma+gama) > np.abs(sigma-gama)) # logic 2\n",
    "idx3=np.logical_not(idx2) # logic 3\n",
    "            \n",
    "gama_ss[idx1*idx2]=np.abs(sigma[idx1*idx2]-gama[idx1*idx2]) # logic not 1 & logic 2\n",
    "gama_ss[idx1*idx3]=np.abs(sigma[idx1*idx3]+gama[idx1*idx3]) # logic not 1 & logic 3\n",
    "\n",
    "\n",
    "BASIS_for_pure_shear=np.column_stack((lon,lat,gama_ss))"
   ]
  },
  {
   "cell_type": "markdown",
   "metadata": {},
   "source": [
    "### SAVE THE RESULTS"
   ]
  },
  {
   "cell_type": "code",
   "execution_count": 8,
   "metadata": {},
   "outputs": [],
   "source": [
    "np.savetxt(output_file1, BASIS_for_extensional, fmt='%g', delimiter=' ')\n",
    "np.savetxt(output_file2, BASIS_for_contractional, fmt='%g', delimiter=' ')\n",
    "np.savetxt(output_file3, BASIS_for_dil, fmt='%g', delimiter=' ')\n",
    "np.savetxt(output_file4, BASIS_for_second_inv, fmt='%g', delimiter=' ')\n",
    "np.savetxt(output_file5, BASIS_for_pure_shear, fmt='%g', delimiter=' ')"
   ]
  },
  {
   "cell_type": "code",
   "execution_count": null,
   "metadata": {},
   "outputs": [],
   "source": []
  }
 ],
 "metadata": {
  "kernelspec": {
   "display_name": "Python 3 (ipykernel)",
   "language": "python",
   "name": "python3"
  },
  "language_info": {
   "codemirror_mode": {
    "name": "ipython",
    "version": 3
   },
   "file_extension": ".py",
   "mimetype": "text/x-python",
   "name": "python",
   "nbconvert_exporter": "python",
   "pygments_lexer": "ipython3",
   "version": "3.9.7"
  }
 },
 "nbformat": 4,
 "nbformat_minor": 4
}
